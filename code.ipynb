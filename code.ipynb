{
  "nbformat": 4,
  "nbformat_minor": 0,
  "metadata": {
    "colab": {
      "provenance": [],
      "collapsed_sections": [
        "V3DspAih-ZOM",
        "9M5aKVAd-19A"
      ]
    },
    "kernelspec": {
      "name": "python3",
      "display_name": "Python 3"
    },
    "language_info": {
      "name": "python"
    }
  },
  "cells": [
    {
      "cell_type": "markdown",
      "source": [
        "### Step 01 -  Tipos de Dados e Operadores."
      ],
      "metadata": {
        "id": "V3DspAih-ZOM"
      }
    },
    {
      "cell_type": "code",
      "execution_count": null,
      "metadata": {
        "id": "VDsqtOt7G8bA",
        "colab": {
          "base_uri": "https://localhost:8080/"
        },
        "outputId": "e3001a6f-a5ea-40af-c38d-16c936d18f39"
      },
      "outputs": [
        {
          "output_type": "stream",
          "name": "stdout",
          "text": [
            "Digite uma tarefa: Terminar código\n",
            "\n",
            "Tarefa foi adicionada!\n",
            "\n",
            "Tarefas:  Terminar código\n"
          ]
        }
      ],
      "source": [
        "tarefa = input(\"Digite uma tarefa: \")\n",
        "\n",
        "print(\"\\nTarefa foi adicionada!\\n\")\n",
        "print(\"Tarefas: \", tarefa)\n"
      ]
    },
    {
      "cell_type": "markdown",
      "source": [
        "### Step 02 - Estruturas de Controle"
      ],
      "metadata": {
        "id": "9M5aKVAd-19A"
      }
    },
    {
      "cell_type": "code",
      "source": [
        "while True:\n",
        "    opcao = input(\"Digite uma tarefa: (ou 'sair' para finalizar): \")\n",
        "    if opcao.lower() == \"sair\":\n",
        "        break\n",
        "    tarefa = opcao\n",
        "    print(f\"Tarefa foi adicionada: {tarefa}\\n\")\n",
        "\n",
        "\n",
        "print(\"\\nUltima tarefa adicionada: \", tarefa)"
      ],
      "metadata": {
        "colab": {
          "base_uri": "https://localhost:8080/"
        },
        "id": "7fzwywvo_0h3",
        "outputId": "c5f31b88-3dbf-4ee4-fd83-fafbbce756a8"
      },
      "execution_count": null,
      "outputs": [
        {
          "output_type": "stream",
          "name": "stdout",
          "text": [
            "Digite uma tarefa: (ou 'sair' para finalizar): E\n",
            "Tarefa foi adicionada: E\n",
            "\n",
            "Digite uma tarefa: (ou 'sair' para finalizar): C\n",
            "Tarefa foi adicionada: C\n",
            "\n",
            "Digite uma tarefa: (ou 'sair' para finalizar): D\n",
            "Tarefa foi adicionada: D\n",
            "\n",
            "Digite uma tarefa: (ou 'sair' para finalizar): Sair\n",
            "\n",
            "Ultima tarefa adicionada:  D\n"
          ]
        }
      ]
    },
    {
      "cell_type": "markdown",
      "source": [
        "### Step 3.1 - Estrutura de Dados"
      ],
      "metadata": {
        "id": "I0E2Ij3dhdho"
      }
    },
    {
      "cell_type": "code",
      "source": [
        "import json\n",
        "\n",
        "tarefas = []\n",
        "\n",
        "def salvar_tarefas():\n",
        "  with open(\"tarefas.json\", \"w\") as arquivo:\n",
        "    json.dump(tarefas, arquivo)\n",
        "  print(\"Tarefas salva com sucesso!\")\n",
        "\n",
        "def carregar_tarefas():\n",
        "  try:\n",
        "    with open(\"taredas.json\", \"r\") as arquivo:\n",
        "      tarefas = json.load(arquivo)\n",
        "      print(\"Tarefas carregadas com sucesso!\")\n",
        "      return tarefas\n",
        "  except:\n",
        "      print(\">>>Nunhum arquivo encontrado! Começandop uma noca lista.<<<\\n\")\n",
        "      return []\n",
        "\n",
        "def adicionar_tarefa(nome, prioridade):\n",
        "    tarefa = {\n",
        "        \"nome\": nome,\n",
        "        \"prioridade\": prioridade\n",
        "    }\n",
        "\n",
        "    tarefas.append(tarefa)\n",
        "    print(f\"\\nTarefa adicionada: {tarefa}\\n\")\n",
        "\n",
        "def listar_tarefas():\n",
        "    print(\"\\nLista de Tarefas: \")\n",
        "    for tarefa in tarefas:\n",
        "      print(f\"-> {tarefa['nome']} | Prioridade: {tarefa['prioridade']}\")\n",
        "\n",
        "def remover_tarefa(nome):\n",
        "    for tarefa in tarefas:\n",
        "      if tarefa[\"nome\"] == nome:\n",
        "        tarefas.remove(tarefa)\n",
        "        print(f\"\\nTarefa: {nome}, foi removida com sucesso!\")\n",
        "        break\n",
        "\n",
        "    else:\n",
        "      print(\"\\nTarefa não encontrada!\")\n",
        "\n",
        "tarefas=carregar_tarefas()\n",
        "\n",
        "while True:\n",
        "\n",
        "  print(\"\\n ** Menu de Opções **\")\n",
        "  print(\"1. Adicionar Tarefa\")\n",
        "  print(\"2. Listar Tarefas\")\n",
        "  print(\"3. Remover Tarefa\")\n",
        "  print(\"4. Salvar Tarefa(s)\")\n",
        "  print(\"5. Sair\")\n",
        "\n",
        "  opcao = int(input(\"\\nDigite uma opção: \"))\n",
        "\n",
        "  if opcao == 1:\n",
        "    nome = input(\"Digite o nome da tarefa: \")\n",
        "    prioridade = input(\"Digite a prioridade da tarefa: \")\n",
        "\n",
        "    adicionar_tarefa(nome, prioridade)\n",
        "\n",
        "  elif opcao == 2:\n",
        "    listar_tarefas()\n",
        "\n",
        "  elif opcao == 3:\n",
        "    nome = input(\"\\nDigite o nome da tarefa a ser removida: \")\n",
        "    remover_tarefa(nome)\n",
        "\n",
        "  elif opcao ==4:\n",
        "     salvar_tarefas()\n",
        "\n",
        "  elif opcao == 5:\n",
        "    print(\"\\nSaindo do programa...\")\n",
        "    break\n",
        "\n",
        "  else:\n",
        "    print(\"\\nOpção inválida. Tente novamente.\")\n"
      ],
      "metadata": {
        "colab": {
          "base_uri": "https://localhost:8080/"
        },
        "id": "A80g7dpvhd9D",
        "outputId": "39552bf6-a6f9-497b-98d1-2f7e73fa0701"
      },
      "execution_count": null,
      "outputs": [
        {
          "output_type": "stream",
          "name": "stdout",
          "text": [
            ">>>Nunhum arquivo encontrado! Começandop uma noca lista.<<<\n",
            "\n",
            "\n",
            " ** Menu de Opções **\n",
            "1. Adicionar Tarefa\n",
            "2. Listar Tarefas\n",
            "3. Remover Tarefa\n",
            "4. Salvar Tarefa(s)\n",
            "5. Sair\n",
            "\n",
            "Digite uma opção: 1\n",
            "Digite o nome da tarefa: T1\n",
            "Digite a prioridade da tarefa: Alta\n",
            "\n",
            "Tarefa adicionada: {'nome': 'T1', 'prioridade': 'Alta'}\n",
            "\n",
            "\n",
            " ** Menu de Opções **\n",
            "1. Adicionar Tarefa\n",
            "2. Listar Tarefas\n",
            "3. Remover Tarefa\n",
            "4. Salvar Tarefa(s)\n",
            "5. Sair\n",
            "\n",
            "Digite uma opção: 1\n",
            "Digite o nome da tarefa: T2\n",
            "Digite a prioridade da tarefa: Média\n",
            "\n",
            "Tarefa adicionada: {'nome': 'T2', 'prioridade': 'Média'}\n",
            "\n",
            "\n",
            " ** Menu de Opções **\n",
            "1. Adicionar Tarefa\n",
            "2. Listar Tarefas\n",
            "3. Remover Tarefa\n",
            "4. Salvar Tarefa(s)\n",
            "5. Sair\n",
            "\n",
            "Digite uma opção: 4\n",
            "Tarefas salva com sucesso!\n",
            "\n",
            " ** Menu de Opções **\n",
            "1. Adicionar Tarefa\n",
            "2. Listar Tarefas\n",
            "3. Remover Tarefa\n",
            "4. Salvar Tarefa(s)\n",
            "5. Sair\n"
          ]
        }
      ]
    },
    {
      "cell_type": "code",
      "source": [],
      "metadata": {
        "id": "5LapupwXjHlk"
      },
      "execution_count": null,
      "outputs": []
    }
  ]
}