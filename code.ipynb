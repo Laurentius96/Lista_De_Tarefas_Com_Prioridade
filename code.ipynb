{
  "nbformat": 4,
  "nbformat_minor": 0,
  "metadata": {
    "colab": {
      "provenance": [],
      "collapsed_sections": [
        "V3DspAih-ZOM",
        "9M5aKVAd-19A",
        "I0E2Ij3dhdho",
        "7_mhN12e_vLs"
      ]
    },
    "kernelspec": {
      "name": "python3",
      "display_name": "Python 3"
    },
    "language_info": {
      "name": "python"
    }
  },
  "cells": [
    {
      "cell_type": "markdown",
      "source": [
        "### Step 01 -  Tipos de Dados e Operadores."
      ],
      "metadata": {
        "id": "V3DspAih-ZOM"
      }
    },
    {
      "cell_type": "code",
      "execution_count": null,
      "metadata": {
        "id": "VDsqtOt7G8bA",
        "colab": {
          "base_uri": "https://localhost:8080/"
        },
        "outputId": "e3001a6f-a5ea-40af-c38d-16c936d18f39"
      },
      "outputs": [
        {
          "output_type": "stream",
          "name": "stdout",
          "text": [
            "Digite uma tarefa: Terminar código\n",
            "\n",
            "Tarefa foi adicionada!\n",
            "\n",
            "Tarefas:  Terminar código\n"
          ]
        }
      ],
      "source": [
        "tarefa = input(\"Digite uma tarefa: \")\n",
        "\n",
        "print(\"\\nTarefa foi adicionada!\\n\")\n",
        "print(\"Tarefas: \", tarefa)\n"
      ]
    },
    {
      "cell_type": "markdown",
      "source": [
        "### Step 02 - Estruturas de Controle"
      ],
      "metadata": {
        "id": "9M5aKVAd-19A"
      }
    },
    {
      "cell_type": "code",
      "source": [
        "while True:\n",
        "    opcao = input(\"Digite uma tarefa: (ou 'sair' para finalizar): \")\n",
        "    if opcao.lower() == \"sair\":\n",
        "        break\n",
        "    tarefa = opcao\n",
        "    print(f\"Tarefa foi adicionada: {tarefa}\\n\")\n",
        "\n",
        "\n",
        "print(\"\\nUltima tarefa adicionada: \", tarefa)"
      ],
      "metadata": {
        "colab": {
          "base_uri": "https://localhost:8080/"
        },
        "id": "7fzwywvo_0h3",
        "outputId": "c5f31b88-3dbf-4ee4-fd83-fafbbce756a8"
      },
      "execution_count": null,
      "outputs": [
        {
          "output_type": "stream",
          "name": "stdout",
          "text": [
            "Digite uma tarefa: (ou 'sair' para finalizar): E\n",
            "Tarefa foi adicionada: E\n",
            "\n",
            "Digite uma tarefa: (ou 'sair' para finalizar): C\n",
            "Tarefa foi adicionada: C\n",
            "\n",
            "Digite uma tarefa: (ou 'sair' para finalizar): D\n",
            "Tarefa foi adicionada: D\n",
            "\n",
            "Digite uma tarefa: (ou 'sair' para finalizar): Sair\n",
            "\n",
            "Ultima tarefa adicionada:  D\n"
          ]
        }
      ]
    },
    {
      "cell_type": "markdown",
      "source": [
        "### Step 3.1 - Estrutura de Dados"
      ],
      "metadata": {
        "id": "I0E2Ij3dhdho"
      }
    },
    {
      "cell_type": "code",
      "source": [
        "import json\n",
        "\n",
        "tarefas = []\n",
        "\n",
        "def salvar_tarefas():\n",
        "  with open(\"tarefas.json\", \"w\") as arquivo:\n",
        "    json.dump(tarefas, arquivo)\n",
        "  print(\"\\nTarefas salva com sucesso!\\n\")\n",
        "\n",
        "def carregar_tarefas():\n",
        "  try:\n",
        "    with open(\"/content/tarefas.json\", \"r\") as arquivo:\n",
        "      tarefas = json.load(arquivo)\n",
        "      print(\"Tarefas carregadas com sucesso!\")\n",
        "      return tarefas\n",
        "  except:\n",
        "      print(\">>>Nunhum arquivo encontrado! Começandop uma noca lista.<<<\\n\")\n",
        "      return []\n",
        "\n",
        "def adicionar_tarefa(nome, prioridade):\n",
        "    tarefa = {\n",
        "        \"nome\": nome,\n",
        "        \"prioridade\": prioridade\n",
        "    }\n",
        "\n",
        "    tarefas.append(tarefa)\n",
        "    print(f\"\\nTarefa adicionada: {tarefa}\\n\")\n",
        "\n",
        "def listar_tarefas():\n",
        "    print(\"\\nLista de Tarefas: \")\n",
        "    for tarefa in tarefas:\n",
        "      print(f\"-> {tarefa['nome']} | Prioridade: {tarefa['prioridade']}\")\n",
        "\n",
        "def remover_tarefa(nome):\n",
        "    for tarefa in tarefas:\n",
        "      if tarefa[\"nome\"] == nome:\n",
        "        tarefas.remove(tarefa)\n",
        "        print(f\"\\nTarefa: {nome}, foi removida com sucesso!\")\n",
        "        break\n",
        "\n",
        "    else:\n",
        "      print(\"\\nTarefa não encontrada!\")\n",
        "\n",
        "tarefas = carregar_tarefas()\n",
        "\n",
        "while True:\n",
        "\n",
        "  print(\"\\n ** Menu de Opções **\")\n",
        "  print(\"1. Adicionar Tarefa\")\n",
        "  print(\"2. Listar Tarefas\")\n",
        "  print(\"3. Remover Tarefa\")\n",
        "  print(\"4. Salvar Tarefa(s)\")\n",
        "  print(\"5. Sair\")\n",
        "\n",
        "  opcao = int(input(\"\\nDigite uma opção: \"))\n",
        "\n",
        "  if opcao == 1:\n",
        "    nome = input(\"Digite o nome da tarefa: \")\n",
        "    prioridade = input(\"Digite a prioridade da tarefa: \")\n",
        "\n",
        "    adicionar_tarefa(nome, prioridade)\n",
        "\n",
        "  elif opcao == 2:\n",
        "    listar_tarefas()\n",
        "\n",
        "  elif opcao == 3:\n",
        "    nome = input(\"\\nDigite o nome da tarefa a ser removida: \")\n",
        "    remover_tarefa(nome)\n",
        "\n",
        "  elif opcao ==4:\n",
        "     salvar_tarefas()\n",
        "\n",
        "  elif opcao == 5:\n",
        "    print(\"\\nSaindo do programa...\")\n",
        "    break\n",
        "\n",
        "  else:\n",
        "    print(\"\\nOpção inválida. Tente novamente.\")\n"
      ],
      "metadata": {
        "colab": {
          "base_uri": "https://localhost:8080/"
        },
        "id": "A80g7dpvhd9D",
        "outputId": "ae098daf-8c0f-4e96-e10b-b532acdec9e9"
      },
      "execution_count": 9,
      "outputs": [
        {
          "output_type": "stream",
          "name": "stdout",
          "text": [
            "Tarefas carregadas com sucesso!\n",
            "\n",
            " ** Menu de Opções **\n",
            "1. Adicionar Tarefa\n",
            "2. Listar Tarefas\n",
            "3. Remover Tarefa\n",
            "4. Salvar Tarefa(s)\n",
            "5. Sair\n",
            "\n",
            "Digite uma opção: 2\n",
            "\n",
            "Lista de Tarefas: \n",
            "-> T1 | Prioridade: Baixa\n",
            "\n",
            " ** Menu de Opções **\n",
            "1. Adicionar Tarefa\n",
            "2. Listar Tarefas\n",
            "3. Remover Tarefa\n",
            "4. Salvar Tarefa(s)\n",
            "5. Sair\n",
            "\n",
            "Digite uma opção: 5\n",
            "\n",
            "Saindo do programa...\n"
          ]
        }
      ]
    },
    {
      "cell_type": "markdown",
      "source": [
        "### Código melhorado:"
      ],
      "metadata": {
        "id": "7_mhN12e_vLs"
      }
    },
    {
      "cell_type": "code",
      "source": [
        "import json\n",
        "import os\n",
        "\n",
        "tarefas = []\n",
        "\n",
        "def limpar_tela():\n",
        "    os.system('cls' if os.name == 'nt' else 'clear')\n",
        "\n",
        "def linha_separadora():\n",
        "    print(\"=\" * 60)\n",
        "\n",
        "def cabecalho():\n",
        "    limpar_tela()\n",
        "    linha_separadora()\n",
        "    print(\"📋 GERENCIADOR DE TAREFAS\".center(60))\n",
        "    linha_separadora()\n",
        "\n",
        "def salvar_tarefas():\n",
        "    with open(\"tarefas.json\", \"w\") as arquivo:\n",
        "        json.dump(tarefas, arquivo, indent=2)\n",
        "    print(\"\\n✅ Tarefas salvas com sucesso!\")\n",
        "    input(\"\\nPressione ENTER para continuar...\")\n",
        "\n",
        "def carregar_tarefas():\n",
        "    try:\n",
        "        with open(\"tarefas.json\", \"r\") as arquivo:\n",
        "            tarefas = json.load(arquivo)\n",
        "            print(\"✅ Tarefas carregadas com sucesso!\")\n",
        "            return tarefas\n",
        "    except:\n",
        "        print(\"⚠️  Nenhum arquivo encontrado! Começando uma nova lista.\")\n",
        "        return []\n",
        "\n",
        "def adicionar_tarefa(nome, prioridade):\n",
        "    tarefa = {\n",
        "        \"nome\": nome,\n",
        "        \"prioridade\": prioridade\n",
        "    }\n",
        "\n",
        "    tarefas.append(tarefa)\n",
        "    print(f\"\\n✅ Tarefa adicionada com sucesso!\")\n",
        "    print(f\"📝 {tarefa['nome']} | 🔥 Prioridade: {tarefa['prioridade']}\")\n",
        "    input(\"\\nPressione ENTER para continuar...\")\n",
        "\n",
        "def listar_tarefas():\n",
        "    cabecalho()\n",
        "    print(\"📋 LISTA DE TAREFAS\")\n",
        "    linha_separadora()\n",
        "\n",
        "    if not tarefas:\n",
        "        print(\"📭 Nenhuma tarefa encontrada!\")\n",
        "    else:\n",
        "        for i, tarefa in enumerate(tarefas, 1):\n",
        "            prioridade_icon = \"🔴\" if tarefa['prioridade'].lower() in ['alta', 'urgente'] else \"🟡\" if tarefa['prioridade'].lower() == 'média' else \"🟢\"\n",
        "            print(f\"{i:2d}. {prioridade_icon} {tarefa['nome']}\")\n",
        "            print(f\"     └─ Prioridade: {tarefa['prioridade']}\")\n",
        "            print()\n",
        "\n",
        "    linha_separadora()\n",
        "    input(\"Pressione ENTER para voltar ao menu...\")\n",
        "\n",
        "def remover_tarefa(nome):\n",
        "    for tarefa in tarefas:\n",
        "        if tarefa[\"nome\"].lower() == nome.lower():\n",
        "            tarefas.remove(tarefa)\n",
        "            print(f\"\\n✅ Tarefa '{nome}' removida com sucesso!\")\n",
        "            input(\"\\nPressione ENTER para continuar...\")\n",
        "            return\n",
        "\n",
        "    print(f\"\\n❌ Tarefa '{nome}' não encontrada!\")\n",
        "    input(\"\\nPressione ENTER para continuar...\")\n",
        "\n",
        "def mostrar_menu():\n",
        "    cabecalho()\n",
        "    print(\"🎯 MENU DE OPÇÕES\")\n",
        "    linha_separadora()\n",
        "    print(\"1️⃣  Adicionar Tarefa\")\n",
        "    print(\"2️⃣  Listar Tarefas\")\n",
        "    print(\"3️⃣  Remover Tarefa\")\n",
        "    print(\"4️⃣  Salvar Tarefas\")\n",
        "    print(\"5️⃣  Sair\")\n",
        "    linha_separadora()\n",
        "\n",
        "# Inicialização\n",
        "print(\"🚀 Iniciando Gerenciador de Tarefas...\")\n",
        "tarefas = carregar_tarefas()\n",
        "input(\"\\nPressione ENTER para continuar...\")\n",
        "\n",
        "while True:\n",
        "    mostrar_menu()\n",
        "\n",
        "    try:\n",
        "        opcao = int(input(\"🔹 Digite uma opção (1-5): \"))\n",
        "    except ValueError:\n",
        "        print(\"\\n❌ Por favor, digite apenas números!\")\n",
        "        input(\"Pressione ENTER para continuar...\")\n",
        "        continue\n",
        "\n",
        "    if opcao == 1:\n",
        "        cabecalho()\n",
        "        print(\"➕ ADICIONAR NOVA TAREFA\")\n",
        "        linha_separadora()\n",
        "        nome = input(\"📝 Digite o nome da tarefa: \").strip()\n",
        "\n",
        "        if not nome:\n",
        "            print(\"\\n❌ Nome da tarefa não pode estar vazio!\")\n",
        "            input(\"Pressione ENTER para continuar...\")\n",
        "            continue\n",
        "\n",
        "        print(\"\\n🔥 Opções de prioridade:\")\n",
        "        print(\"   • Alta/Urgente\")\n",
        "        print(\"   • Média\")\n",
        "        print(\"   • Baixa\")\n",
        "        prioridade = input(\"\\n🎯 Digite a prioridade da tarefa: \").strip()\n",
        "\n",
        "        if not prioridade:\n",
        "            prioridade = \"Média\"\n",
        "\n",
        "        adicionar_tarefa(nome, prioridade)\n",
        "\n",
        "    elif opcao == 2:\n",
        "        listar_tarefas()\n",
        "\n",
        "    elif opcao == 3:\n",
        "        cabecalho()\n",
        "        print(\"🗑️  REMOVER TAREFA\")\n",
        "        linha_separadora()\n",
        "\n",
        "        if not tarefas:\n",
        "            print(\"📭 Nenhuma tarefa para remover!\")\n",
        "            input(\"Pressione ENTER para continuar...\")\n",
        "            continue\n",
        "\n",
        "        print(\"📋 Tarefas disponíveis:\")\n",
        "        for i, tarefa in enumerate(tarefas, 1):\n",
        "            print(f\"   {i}. {tarefa['nome']}\")\n",
        "        print()\n",
        "\n",
        "        nome = input(\"🔹 Digite o nome da tarefa a ser removida: \").strip()\n",
        "        if nome:\n",
        "            remover_tarefa(nome)\n",
        "        else:\n",
        "            print(\"\\n❌ Nome não pode estar vazio!\")\n",
        "            input(\"Pressione ENTER para continuar...\")\n",
        "\n",
        "    elif opcao == 4:\n",
        "        cabecalho()\n",
        "        print(\"💾 SALVANDO TAREFAS...\")\n",
        "        linha_separadora()\n",
        "        salvar_tarefas()\n",
        "\n",
        "    elif opcao == 5:\n",
        "        cabecalho()\n",
        "        print(\"👋 ENCERRANDO PROGRAMA\")\n",
        "        linha_separadora()\n",
        "        print(\"Obrigado por usar o Gerenciador de Tarefas!\")\n",
        "        print(\"Até logo! 🚀\")\n",
        "        break\n",
        "\n",
        "    else:\n",
        "        print(f\"\\n❌ Opção '{opcao}' inválida! Escolha entre 1 e 5.\")\n",
        "        input(\"Pressione ENTER para continuar...\")"
      ],
      "metadata": {
        "id": "5LapupwXjHlk",
        "colab": {
          "base_uri": "https://localhost:8080/"
        },
        "outputId": "ff316154-14ba-4119-c5d0-4caaf79d2965"
      },
      "execution_count": 11,
      "outputs": [
        {
          "output_type": "stream",
          "name": "stdout",
          "text": [
            "🚀 Iniciando Gerenciador de Tarefas...\n",
            "✅ Tarefas carregadas com sucesso!\n",
            "\n",
            "Pressione ENTER para continuar...\n",
            "============================================================\n",
            "                  📋 GERENCIADOR DE TAREFAS                  \n",
            "============================================================\n",
            "🎯 MENU DE OPÇÕES\n",
            "============================================================\n",
            "1️⃣  Adicionar Tarefa\n",
            "2️⃣  Listar Tarefas\n",
            "3️⃣  Remover Tarefa\n",
            "4️⃣  Salvar Tarefas\n",
            "5️⃣  Sair\n",
            "============================================================\n",
            "🔹 Digite uma opção (1-5): 5\n",
            "============================================================\n",
            "                  📋 GERENCIADOR DE TAREFAS                  \n",
            "============================================================\n",
            "👋 ENCERRANDO PROGRAMA\n",
            "============================================================\n",
            "Obrigado por usar o Gerenciador de Tarefas!\n",
            "Até logo! 🚀\n"
          ]
        }
      ]
    }
  ]
}