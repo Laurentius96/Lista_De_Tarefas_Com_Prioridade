{
  "nbformat": 4,
  "nbformat_minor": 0,
  "metadata": {
    "colab": {
      "provenance": [],
      "collapsed_sections": [
        "V3DspAih-ZOM",
        "9M5aKVAd-19A"
      ]
    },
    "kernelspec": {
      "name": "python3",
      "display_name": "Python 3"
    },
    "language_info": {
      "name": "python"
    }
  },
  "cells": [
    {
      "cell_type": "markdown",
      "source": [
        "### Step 01 -  Tipos de Dados e Operadores."
      ],
      "metadata": {
        "id": "V3DspAih-ZOM"
      }
    },
    {
      "cell_type": "code",
      "execution_count": null,
      "metadata": {
        "id": "VDsqtOt7G8bA",
        "colab": {
          "base_uri": "https://localhost:8080/"
        },
        "outputId": "e3001a6f-a5ea-40af-c38d-16c936d18f39"
      },
      "outputs": [
        {
          "output_type": "stream",
          "name": "stdout",
          "text": [
            "Digite uma tarefa: Terminar código\n",
            "\n",
            "Tarefa foi adicionada!\n",
            "\n",
            "Tarefas:  Terminar código\n"
          ]
        }
      ],
      "source": [
        "tarefa = input(\"Digite uma tarefa: \")\n",
        "\n",
        "print(\"\\nTarefa foi adicionada!\\n\")\n",
        "print(\"Tarefas: \", tarefa)\n"
      ]
    },
    {
      "cell_type": "markdown",
      "source": [
        "### Step 02 - Estruturas de Controle"
      ],
      "metadata": {
        "id": "9M5aKVAd-19A"
      }
    },
    {
      "cell_type": "code",
      "source": [
        "while True:\n",
        "    opcao = input(\"Digite uma tarefa: (ou 'sair' para finalizar): \")\n",
        "    if opcao.lower() == \"sair\":\n",
        "        break\n",
        "    tarefa = opcao\n",
        "    print(f\"Tarefa foi adicionada: {tarefa}\\n\")\n",
        "\n",
        "\n",
        "print(\"\\nUltima tarefa adicionada: \", tarefa)"
      ],
      "metadata": {
        "colab": {
          "base_uri": "https://localhost:8080/"
        },
        "id": "7fzwywvo_0h3",
        "outputId": "c5f31b88-3dbf-4ee4-fd83-fafbbce756a8"
      },
      "execution_count": null,
      "outputs": [
        {
          "output_type": "stream",
          "name": "stdout",
          "text": [
            "Digite uma tarefa: (ou 'sair' para finalizar): E\n",
            "Tarefa foi adicionada: E\n",
            "\n",
            "Digite uma tarefa: (ou 'sair' para finalizar): C\n",
            "Tarefa foi adicionada: C\n",
            "\n",
            "Digite uma tarefa: (ou 'sair' para finalizar): D\n",
            "Tarefa foi adicionada: D\n",
            "\n",
            "Digite uma tarefa: (ou 'sair' para finalizar): Sair\n",
            "\n",
            "Ultima tarefa adicionada:  D\n"
          ]
        }
      ]
    },
    {
      "cell_type": "markdown",
      "source": [
        "### Step 3.1 - Estrutura de Dados"
      ],
      "metadata": {
        "id": "I0E2Ij3dhdho"
      }
    },
    {
      "cell_type": "code",
      "source": [
        "tarefas = []\n",
        "\n",
        "while True:\n",
        "  opcao = input(\"Digite uma tarefa (ou 'sair' para finalizar): \")\n",
        "  if opcao.lower() == \"sair\":\n",
        "    break\n",
        "\n",
        "  tarefas.append(opcao)\n",
        "  print(f\"Tarefa adicionada: {opcao}\\n\")\n",
        "\n",
        "print(\"\\nLista de Tarefas:\")\n",
        "for tarefa in tarefas:\n",
        "  print(\"->\", tarefa)"
      ],
      "metadata": {
        "colab": {
          "base_uri": "https://localhost:8080/"
        },
        "id": "A80g7dpvhd9D",
        "outputId": "17f29949-37a1-481c-f701-1b1a9fd8e8df"
      },
      "execution_count": 4,
      "outputs": [
        {
          "output_type": "stream",
          "name": "stdout",
          "text": [
            "Digite uma tarefa (ou 'sair' para finalizar): T2\n",
            "Tarefa adicionada: T2\n",
            "\n",
            "Digite uma tarefa (ou 'sair' para finalizar): T445\n",
            "Tarefa adicionada: T445\n",
            "\n",
            "Digite uma tarefa (ou 'sair' para finalizar): T3223\n",
            "Tarefa adicionada: T3223\n",
            "\n",
            "Digite uma tarefa (ou 'sair' para finalizar): sair\n",
            "\n",
            "Lista de Tarefas:\n",
            "-> T2\n",
            "-> T445\n",
            "-> T3223\n"
          ]
        }
      ]
    },
    {
      "cell_type": "code",
      "source": [],
      "metadata": {
        "id": "5LapupwXjHlk"
      },
      "execution_count": null,
      "outputs": []
    }
  ]
}