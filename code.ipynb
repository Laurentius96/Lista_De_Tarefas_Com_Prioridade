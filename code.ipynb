{
  "nbformat": 4,
  "nbformat_minor": 0,
  "metadata": {
    "colab": {
      "provenance": []
    },
    "kernelspec": {
      "name": "python3",
      "display_name": "Python 3"
    },
    "language_info": {
      "name": "python"
    }
  },
  "cells": [
    {
      "cell_type": "code",
      "execution_count": 6,
      "metadata": {
        "id": "VDsqtOt7G8bA",
        "colab": {
          "base_uri": "https://localhost:8080/"
        },
        "outputId": "5dbf35a0-c69c-4be6-da79-7e5fe00e5f11"
      },
      "outputs": [
        {
          "output_type": "stream",
          "name": "stdout",
          "text": [
            "Digite uma tarefa: Estudar Python\n",
            "\n",
            "Tarefa foi adicionada!\n",
            "\n",
            "Tarefas:  Estudar Python\n"
          ]
        }
      ],
      "source": [
        "tarefa = input(\"Digite uma tarefa: \")\n",
        "\n",
        "print(\"\\nTarefa foi adicionada!\\n\")\n",
        "print(\"Tarefas: \", tarefa)\n"
      ]
    },
    {
      "cell_type": "code",
      "source": [],
      "metadata": {
        "id": "oBCUTTyj0Et2"
      },
      "execution_count": 6,
      "outputs": []
    }
  ]
}