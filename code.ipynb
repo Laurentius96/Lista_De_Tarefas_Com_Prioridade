{
  "nbformat": 4,
  "nbformat_minor": 0,
  "metadata": {
    "colab": {
      "provenance": [],
      "collapsed_sections": [
        "V3DspAih-ZOM"
      ]
    },
    "kernelspec": {
      "name": "python3",
      "display_name": "Python 3"
    },
    "language_info": {
      "name": "python"
    }
  },
  "cells": [
    {
      "cell_type": "markdown",
      "source": [
        "### Step 01 -  Tipos de Dados e Operadores."
      ],
      "metadata": {
        "id": "V3DspAih-ZOM"
      }
    },
    {
      "cell_type": "code",
      "execution_count": 1,
      "metadata": {
        "id": "VDsqtOt7G8bA",
        "colab": {
          "base_uri": "https://localhost:8080/"
        },
        "outputId": "e3001a6f-a5ea-40af-c38d-16c936d18f39"
      },
      "outputs": [
        {
          "output_type": "stream",
          "name": "stdout",
          "text": [
            "Digite uma tarefa: Terminar código\n",
            "\n",
            "Tarefa foi adicionada!\n",
            "\n",
            "Tarefas:  Terminar código\n"
          ]
        }
      ],
      "source": [
        "tarefa = input(\"Digite uma tarefa: \")\n",
        "\n",
        "print(\"\\nTarefa foi adicionada!\\n\")\n",
        "print(\"Tarefas: \", tarefa)\n"
      ]
    },
    {
      "cell_type": "markdown",
      "source": [
        "### Step 02 - Estruturas de Controle"
      ],
      "metadata": {
        "id": "9M5aKVAd-19A"
      }
    },
    {
      "cell_type": "code",
      "source": [
        "while True:\n",
        "    opcao = input(\"Digite uma tarefa: (ou 'sair' para finalizar): \")\n",
        "    if opcao.lower() == \"sair\":\n",
        "        break\n",
        "    tarefa = opcao\n",
        "    print(f\"Tarefa foi adicionada: {tarefa}\\n\")\n",
        "\n",
        "\n",
        "print(\"\\nUltima tarefa adicionada: \", tarefa)"
      ],
      "metadata": {
        "colab": {
          "base_uri": "https://localhost:8080/"
        },
        "id": "7fzwywvo_0h3",
        "outputId": "c5f31b88-3dbf-4ee4-fd83-fafbbce756a8"
      },
      "execution_count": 8,
      "outputs": [
        {
          "output_type": "stream",
          "name": "stdout",
          "text": [
            "Digite uma tarefa: (ou 'sair' para finalizar): E\n",
            "Tarefa foi adicionada: E\n",
            "\n",
            "Digite uma tarefa: (ou 'sair' para finalizar): C\n",
            "Tarefa foi adicionada: C\n",
            "\n",
            "Digite uma tarefa: (ou 'sair' para finalizar): D\n",
            "Tarefa foi adicionada: D\n",
            "\n",
            "Digite uma tarefa: (ou 'sair' para finalizar): Sair\n",
            "\n",
            "Ultima tarefa adicionada:  D\n"
          ]
        }
      ]
    },
    {
      "cell_type": "code",
      "source": [],
      "metadata": {
        "id": "TEfpl5K0AV9h"
      },
      "execution_count": null,
      "outputs": []
    }
  ]
}